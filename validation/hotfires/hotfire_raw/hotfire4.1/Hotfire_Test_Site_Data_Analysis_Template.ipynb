{
 "cells": [
  {
   "cell_type": "code",
   "execution_count": 5,
   "id": "e6ac8f12",
   "metadata": {},
   "outputs": [],
   "source": [
    "import os\n",
    "import math\n",
    "import datetime\n",
    "import numpy as np\n",
    "import pandas as pd\n",
    "from math import pi\n",
    "import scipy.integrate as spi\n",
    "from scipy.integrate import quad\n",
    "from matplotlib import pyplot as plt\n",
    "from scipy.signal import savgol_filter\n",
    "from scipy.ndimage import median_filter\n",
    "from scipy.ndimage import gaussian_filter1d\n",
    "from scipy.interpolate import UnivariateSpline\n",
    "from sklearn.linear_model import LinearRegression\n",
    "from matplotlib.ticker import (AutoMinorLocator, MultipleLocator)"
   ]
  },
  {
   "cell_type": "markdown",
   "id": "26e8fc91",
   "metadata": {},
   "source": [
    "## 1. Define Constants"
   ]
  },
  {
   "cell_type": "markdown",
   "id": "5afc65b2",
   "metadata": {},
   "source": [
    "Define the constants specific to this coldflow test"
   ]
  },
  {
   "cell_type": "code",
   "execution_count": null,
   "id": "f90f9f46",
   "metadata": {},
   "outputs": [],
   "source": [
    "# nitrous constants\n",
    "p_c = 7251                                                      # kPa\n",
    "T_c = 309.57                                                    # Kelvin\n",
    "rho_c = 452                                                     # kg/m^3\n",
    "\n",
    "# 4.1 constants\n",
    "b1 = -6.71893\n",
    "b2 = 1.35966\n",
    "b3 = -1.3779\n",
    "b4 = -4.051\n",
    "\n",
    "# 4.2 constants\n",
    "b1_l = 1.72328\n",
    "b2_l = -0.83950\n",
    "b3_l = 0.51060\n",
    "b4_l = -0.10412\n",
    "\n",
    "# 4.3 constants\n",
    "b1_g = -1.00900\n",
    "b2_g = -6.28792\n",
    "b3_g = 7.50332\n",
    "b4_g = -7.90463\n",
    "b5_g = 0.629427"
   ]
  },
  {
   "cell_type": "code",
   "execution_count": null,
   "id": "6f90a9d9",
   "metadata": {},
   "outputs": [],
   "source": [
    "# run tank dimensions\n",
    "inner_diameter = 0.146304                                       # m\n",
    "cyl_height = 0.912114                                           # m\n",
    "V_total = 0.01533                                               # m^3 \n",
    "base_area = np.pi * ((inner_diameter/2)**2)                     # m^2"
   ]
  },
  {
   "cell_type": "code",
   "execution_count": null,
   "id": "1d167bf4",
   "metadata": {},
   "outputs": [],
   "source": [
    "# injector\n",
    "hole_diameter = 2                                               # mm\n",
    "num_holes = ???"
   ]
  },
  {
   "cell_type": "code",
   "execution_count": null,
   "id": "607c7e1f",
   "metadata": {},
   "outputs": [],
   "source": [
    "# nozzle\n",
    "A = 0.0011\n",
    "gamma = 1.2661\n",
    "R = 375.5075                                                    # specific gas constant of mixture \n",
    "T_o = 2842                                                      # K"
   ]
  },
  {
   "cell_type": "code",
   "execution_count": null,
   "id": "5f250b50",
   "metadata": {},
   "outputs": [],
   "source": [
    "# fuel grain\n",
    "m_fuel = ???                                                  # kg\n",
    "m_fuel_uncertainty = 0.0005                                     # kg"
   ]
  },
  {
   "cell_type": "code",
   "execution_count": null,
   "id": "c1abef05",
   "metadata": {},
   "outputs": [],
   "source": [
    "# input filename\n",
    "input_data = '???.txt'"
   ]
  },
  {
   "cell_type": "code",
   "execution_count": null,
   "id": "24c57837",
   "metadata": {},
   "outputs": [],
   "source": [
    "# ambient temp\n",
    "outdoor_temp = ???                                               # Celcius"
   ]
  },
  {
   "cell_type": "markdown",
   "id": "5a82e35d",
   "metadata": {},
   "source": [
    "## 2. Define Functions"
   ]
  },
  {
   "cell_type": "markdown",
   "id": "96b02e44",
   "metadata": {},
   "source": [
    "These are the functions required to run the code. Add any additional functions in this section."
   ]
  },
  {
   "cell_type": "code",
   "execution_count": 1,
   "id": "a5379fe8",
   "metadata": {},
   "outputs": [],
   "source": [
    "# get data in time range required\n",
    "def get_data_range(data, time, start, end):\n",
    "        return [d for t, d in zip(time, data) if start <= t <= end]"
   ]
  },
  {
   "cell_type": "code",
   "execution_count": 2,
   "id": "137972e0",
   "metadata": {},
   "outputs": [],
   "source": [
    "# calculate total impulse by numerically integrating the thrust values with respect to time\n",
    "def calculate_total_impulse(time, thrust):\n",
    "    def integrand(t):\n",
    "        return np.interp(t, time, thrust)\n",
    "    total_impulse = 0\n",
    "    for i in range(len(time) - 1):\n",
    "        total_impulse += spi.quad(integrand, time[i], time[i+1])[0]\n",
    "    return total_impulse"
   ]
  },
  {
   "cell_type": "code",
   "execution_count": 3,
   "id": "1c3c394f",
   "metadata": {},
   "outputs": [],
   "source": [
    "# determine nitrous vapour pressure, liquid density and gas density given temperature\n",
    "def nitrous_equations(temp_kelvin):\n",
    "    T_r = temp_kelvin/T_c\n",
    "    \n",
    "    # 4.1 Vapour Pressure\n",
    "    p = p_c * math.exp((1/T_r) * ((b1 * (1-T_r)) + (b2 * (1-T_r)**(3/2)) + (b3 * (1-T_r)**(5/2)) + (b4 * (1-T_r)**5)))\n",
    "    \n",
    "    # 4.2 Density of Saturated Liquid\n",
    "    p_l = rho_c * math.exp((b1_l * (1-T_r)**(1/3)) + (b2_l * (1-T_r)**(2/3)) + (b3_l * (1-T_r)) + (b4_l * (1-T_r)**(4/3)))\n",
    "    \n",
    "    # 4.3 Density of Saturated Gas\n",
    "    p_g = rho_c * math.exp((b1_g * ((1/T_r)-1)**(1/3)) + (b2_g * ((1/T_r)-1)**(2/3)) + (b3_g * ((1/T_r)-1)) + (b4_g * ((1/T_r)-1)**(4/3)) + (b5_g * ((1/T_r)-1)**(5/3)))\n",
    "    \n",
    "    return p, p_l, p_g\n",
    "\n",
    "# turn nitrous vapour pressure, liquid density and gas density into lists\n",
    "def nitrous_equation_lists(temp_list):\n",
    "    vap_list = []\n",
    "    liquid_list = []\n",
    "    gas_list = []\n",
    "    for temp_kelvin in temp_list:\n",
    "        p, p_l, p_g = nitrous_equations(temp_kelvin)\n",
    "        vap_list.append(p)\n",
    "        liquid_list.append(p_l)\n",
    "        gas_list.append(p_g)\n",
    "        \n",
    "    return vap_list, liquid_list, gas_list"
   ]
  },
  {
   "cell_type": "code",
   "execution_count": 4,
   "id": "15305d59",
   "metadata": {},
   "outputs": [],
   "source": [
    "# Determine liquid density from temperature. Finds key from closest value in dictionary using list comprehension\n",
    "def get_liquid_density_from_pressure(temp_liquid_density_dict, pressure_temp_dict, pressure_key):\n",
    "    pressure_KPa = pressure_key * 6.89476\n",
    "    temp_K = pressure_temp_dict.get(pressure_KPa) or pressure_temp_dict[min(pressure_temp_dict.keys(), key = lambda key: abs(key-pressure_KPa))]\n",
    "    liquid_density = temp_liquid_density_dict.get(temp_K) or temp_liquid_density_dict[min(temp_liquid_density_dict.keys(), key = lambda key: abs(key-temp_K))]\n",
    "    \n",
    "    return liquid_density"
   ]
  },
  {
   "cell_type": "code",
   "execution_count": null,
   "id": "52d295ba",
   "metadata": {},
   "outputs": [],
   "source": [
    "# determine discharge coefficient given mass flow rate and combustion chamber pressure\n",
    "def calculate_discharge_coefficient(n_o, hole_diameter, num_holes, p_run_range, run_temp_range, delta_p_run_cc, temp_liquid_density_dict):\n",
    "    injection_area = (np.pi * ((hole_diameter/1000)/2)**2)\n",
    "    discharge_coefficient = []\n",
    "    for i in range(len(p_run_range)):\n",
    "        liquid_density = get_liquid_density_from_pressure(temp_liquid_density_dict, pressure_temp_dict, p_run_range[i])\n",
    "        discharge_coeff = n_o / (num_holes * injection_area * np.sqrt(2*liquid_density*delta_p_run_cc[i]*6892.76))\n",
    "        discharge_coefficient.append(discharge_coeff)\n",
    "        \n",
    "    return discharge_coefficient\n",
    "\n",
    "def calculate_discharge_coefficient_uncertainty(discharge_coefficient, hole_diameter, num_holes, p_run_range, delta_p_run_cc, temp_liquid_density_dict, mass_flow_rate_std_error):\n",
    "    injection_area = (np.pi * ((hole_diameter/1000)/2)**2)\n",
    "    c_d_std_error = []\n",
    "    for i in range(len(p_run_range)):\n",
    "        liquid_density = get_liquid_density_from_pressure(temp_liquid_density_dict, pressure_temp_dict, p_run_range[i])\n",
    "        discharge_coefficient_std_error = (1 / (num_holes * injection_area * np.sqrt(2*liquid_density*abs(delta_p_run_cc[i])*6892.76))) * mass_flow_rate_std_error\n",
    "        c_d_std_error.append(discharge_coefficient_std_error)\n",
    "    return c_d_std_error"
   ]
  },
  {
   "cell_type": "code",
   "execution_count": null,
   "id": "1eedfcf2",
   "metadata": {},
   "outputs": [],
   "source": [
    "def get_nitrous_mass_unknown_ullage(pressure, m_total):\n",
    "    \n",
    "    temp_K = pressure_temp_dict.get(pressure) or pressure_temp_dict[min(pressure_temp_dict.keys(), key = lambda key: abs(key-pressure))]\n",
    "    p, p_liq, p_gas = nitrous_equations(temp_K)\n",
    "    x = (V_total-((m_total/p_gas)))/((m_total/p_liq)-(m_total/p_gas))      # x = mass of liquid / total mass\n",
    "    m_liq = x * m_total                                                    # get mass of liquid in tank\n",
    "    m_gas = (1-x) * m_total                                                # get mass of gas in tank\n",
    "    V_liq = m_liq / p_liq                                                  # get volume of liquid\n",
    "    V_gas = m_gas / p_gas                                                  # get volume of gas\n",
    "    V_liq_height = V_liq / base_area                                       # get height of liquid in tank\n",
    "    dip_tube_length = cyl_height - V_liq_height                            # get diptube length\n",
    "    ullage_percentage = (dip_tube_length / cyl_height) * 100     \n",
    "    \n",
    "    return m_liq, m_gas, ullage_percentage\n",
    "    \n",
    "# def get_nitrous_mass_known_ullage(outside_temp, ullage_percentage):\n",
    "    \n",
    "#     p, p_liq, p_gas = nitrous_equations(outside_temp + 273.15)             # get pressure and density values given known temperature\n",
    "#     V_liq_height = cyl_height * (1-(ullage_percentage / 100))              # get height of liquid given fixed 10% ullage\n",
    "#     V_liq = V_liq_height * base_area                                       # get volume of liquid in tank using liquid height and cylinder area of base\n",
    "#     m_liq = V_liq * p_liq                                                  # get mass of liquid given volume and density at given temperature\n",
    "#     V_gas_height = cyl_height * (ullage_percentage / 100)                  # get height of gas (ullage)\n",
    "#     V_gas = V_gas_height * base_area                                       # get volume of gas in tank using ullage and cylinder area of base\n",
    "#     m_gas = V_gas * p_gas                                                  # get mass of gas given volume and density at given temperature\n",
    "#     m_total = m_liq + m_gas                                                # get total amount of nitrous\n",
    "#     ullage_percentage = (V_gas_height / cyl_height) * 100                  # calculate ullage percentage\n",
    "    \n",
    "#     return m_liq, m_gas, ullage_percentage"
   ]
  },
  {
   "cell_type": "code",
   "execution_count": null,
   "id": "adced7f7",
   "metadata": {},
   "outputs": [],
   "source": [
    "def nozzle_mass_flow_rate(time, pressure, A, gamma, R, T_o):\n",
    "    pt = pressure * 6894.76  # Convert psi to Pascals (Pa)\n",
    "    mdot = ((A * pt) / np.sqrt(T_o)) * np.sqrt(gamma / R) * (((gamma + 1) / 2)**(-((gamma + 1) / (2 * (gamma - 1)))))\n",
    "    return mdot"
   ]
  },
  {
   "cell_type": "markdown",
   "id": "adb754bf",
   "metadata": {},
   "source": [
    "## 3. Determine Start and End Times"
   ]
  },
  {
   "cell_type": "markdown",
   "id": "8dcd464d",
   "metadata": {},
   "source": [
    "This section is used to determine the correct start and end times for filling, burn and liquid phase. I had scripts that would do this automatically, but it was too unreliable with the noisy data. While it might take a bit of time to tweak, hardcoding it like this is much more accurate. It can be very quick after you've done it for the first time. "
   ]
  },
  {
   "cell_type": "code",
   "execution_count": null,
   "id": "bc90fd66",
   "metadata": {},
   "outputs": [],
   "source": [
    "column_names = ['time_ms', 'run_pressure_V', 'fill_pressure_V', 'purge_pressure_V', 'tank_pressure_V', 'tank_mass_V', 'thrust_V', 'cc_pressure_V', 'tank_temp_V', 'run_temp_V', 'vent_temp_V', 'garbage', 'run_pressure_sw', 'fill_pressure_sw', 'purge_pressure_sw', 'tank_pressure_sw', 'tank_mass_sw', 'thrust_sw', 'cc_pressure_sw', 'run_temp_sw', 'tank_temp_sw', 'ven_temp_sw']\n",
    "df = pd.read_csv(input_data, sep='\\t', names=column_names, index_col=False, dtype=np.float64, skip_blank_lines=True)\n",
    "time, p_fill, p_tank, p_run, p_cc, tank_temp, run_temp, tank_mass, thrust = (df['time_ms'] / 1000, df['fill_pressure_sw'], df['tank_pressure_sw'], df['run_pressure_sw'], df['cc_pressure_sw'], df['tank_temp_sw'], df['run_temp_sw'], df['tank_mass_sw'], df['thrust_sw'])"
   ]
  },
  {
   "cell_type": "code",
   "execution_count": null,
   "id": "302cfc58",
   "metadata": {},
   "outputs": [],
   "source": [
    "# play around with these values until you find the correct times\n",
    "start_time_fill = ???\n",
    "start_time = ???\n",
    "end_time = ???\n",
    "end_time_fill = start_time\n",
    "start_time_liq_pre = ???\n",
    "end_time_liq_pre = ???\n",
    "start_time_liq = ???\n",
    "end_time_liq = ???"
   ]
  },
  {
   "cell_type": "code",
   "execution_count": null,
   "id": "f1d03691",
   "metadata": {},
   "outputs": [],
   "source": [
    "plt.figure(figsize=(10, 6))\n",
    "plt.plot(time, p_tank)\n",
    "plt.title('Tank Pressure')\n",
    "plt.grid(True)\n",
    "plt.xlim(start_time_fill, start_time)\n",
    "plt.show()\n",
    "\n",
    "plt.figure(figsize=(10, 6))\n",
    "plt.plot(time, p_run)\n",
    "plt.plot(time, p_cc)\n",
    "plt.axvline(x= start_time_liq_pre, color='darkorange', linestyle='--', linewidth=2)\n",
    "plt.axvline(x= end_time_liq_pre, color='blue', linestyle='--', linewidth=2)\n",
    "plt.title('Run Pressure')\n",
    "plt.grid(True)\n",
    "plt.xlim(start_time, end_time)\n",
    "plt.show()\n",
    "\n",
    "plt.figure(figsize=(10, 6))\n",
    "plt.plot(time, thrust)\n",
    "#plt.axvline(x= liq_start, color='darkorange', linestyle='--', linewidth=2)\n",
    "#plt.axvline(x= liq_end, color='blue', linestyle='--', linewidth=2)\n",
    "plt.title('Thrust')\n",
    "plt.grid(True)\n",
    "plt.xlim(start_time, end_time)\n",
    "plt.show()"
   ]
  },
  {
   "cell_type": "markdown",
   "id": "580a8f17",
   "metadata": {},
   "source": [
    "## 4. Extract Data"
   ]
  },
  {
   "cell_type": "markdown",
   "id": "e237e049",
   "metadata": {},
   "source": [
    "This section actually extracts the data from the txt file and gets the correct data ranges and pressure deltas."
   ]
  },
  {
   "cell_type": "code",
   "execution_count": null,
   "id": "968ab214",
   "metadata": {},
   "outputs": [],
   "source": [
    "# create dictionary of nitrous liquid density and temperature values (as solving for liquid density from temp is too mathematically intensive)\n",
    "temp_list = np.linspace(183, 309, num = 10000)\n",
    "vap_list, liquid_list, gas_list = nitrous_equation_lists(temp_list)\n",
    "temp_liquid_density_dict = dict(zip(temp_list, liquid_list))\n",
    "pressure_temp_dict = dict(zip(vap_list, temp_list))\n",
    "\n",
    "# get time ranges\n",
    "time_range = [t - start_time for t in time[(time >= start_time) & (time <= end_time)]]\n",
    "time_range_fill = [t - start_time_fill for t in time if start_time_fill <= t <= end_time_fill]\n",
    "time_range_full = [t - start_time_fill for t in time[(time >= start_time_fill) & (time <= end_time)]]\n",
    "    \n",
    "# get data ranges in time frame\n",
    "p_fill_range = get_data_range(p_fill, time, start_time_fill, end_time_fill)\n",
    "p_tank_fill_range = get_data_range(p_tank, time, start_time_fill, end_time_fill)\n",
    "p_tank_range = get_data_range(p_tank, time, start_time, end_time)\n",
    "p_run_range = get_data_range(p_run, time, start_time, end_time)\n",
    "p_cc_range = get_data_range(p_cc, time, start_time, end_time)\n",
    "tank_temp_range = get_data_range(tank_temp, time, start_time, end_time)\n",
    "run_temp_range = get_data_range(run_temp, time, start_time, end_time)\n",
    "thrust_range = get_data_range(thrust, time, start_time, end_time)\n",
    "mass_range = get_data_range(tank_mass, time, start_time_fill, start_time)\n",
    "mass_run_range = get_data_range(tank_mass, time, start_time, end_time)\n",
    "    \n",
    "# calculate pressure deltas\n",
    "delta_p_tank_fill = [pt - pf for pt, pf in zip(p_tank_fill_range, p_fill_range)]\n",
    "delta_p_tank_run = [pt - pr for pt, pr in zip(p_tank_range, p_run_range)]\n",
    "delta_p_run_cc = [pr - pc for pr, pc in zip(p_run_range, p_cc_range)]"
   ]
  },
  {
   "cell_type": "markdown",
   "id": "5df1dd74",
   "metadata": {},
   "source": [
    "## 5. Mass Data Fitting and Mass Estimates"
   ]
  },
  {
   "cell_type": "markdown",
   "id": "63b20316",
   "metadata": {},
   "source": [
    "This section fits the mass data and gives mass estimates. Ideally, the first method is used as it is automatic. But for hotfires the data is often so noisy that you occasionally have to use Method 2, which hard codes a fit."
   ]
  },
  {
   "cell_type": "code",
   "execution_count": null,
   "id": "6934d702",
   "metadata": {},
   "outputs": [],
   "source": [
    "# Method 1: Low Pass Filter and Gaussian Smoothing (ideal)\n",
    "#smoothed_mass_savgol = savgol_filter(mass_run_range, window_length=100, polyorder=1) # Savitzky-Golay filter (Low-Pass)\n",
    "smoothed_mass_gaussian = gaussian_filter1d(mass_run_range, sigma=60) # Gaussian Smoothing\n",
    "\n",
    "plt.figure(figsize=(10, 6))\n",
    "plt.plot(time_range, mass_run_range, label='Original Mass (kg)', alpha=0.7)\n",
    "#plt.plot(time_range, smoothed_mass_savgol, label='Savitzky-Golay (Low-Pass)', color='red')\n",
    "plt.plot(time_range, smoothed_mass_gaussian, label='Gaussian Smoothing', color='red')\n",
    "plt.title('Tank Mass (Run)')\n",
    "plt.ylim(0,15)\n",
    "plt.grid(True)\n",
    "plt.legend()\n",
    "plt.show()"
   ]
  },
  {
   "cell_type": "code",
   "execution_count": null,
   "id": "0c47b97e",
   "metadata": {},
   "outputs": [],
   "source": [
    "# Method 2: Manual Polynomial Fit (desperate for a fit if too many vibrations. You have to determine the x and y coordinates yourself)\n",
    "# manually define points\n",
    "coordinates = np.array([[0, 11], [1, 10], [2.5, 9], [5, 6.9], [6, 6.8], [7.5, 6.7], [9, 6.3], [10, 6], [12.5, 5.7], [13.5, 5.1], [15, 4.9], [17.5, 3.8], [19.5, 3.2]])\n",
    "x_coordinates = coordinates[:, 0]\n",
    "y_coordinates = coordinates[:, 1]\n",
    "degree = 7  # You can adjust the degree based on the complexity\n",
    "coefficients = np.polyfit(x_coordinates, y_coordinates, degree)\n",
    "poly_fit = np.poly1d(coefficients)\n",
    "fit_line = np.linspace(min(x_coordinates), max(x_coordinates), 100)\n",
    "\n",
    "plt.figure(figsize=(10, 6))\n",
    "plt.plot(time_range, mass_run_range, label='Original Mass (kg)', alpha=0.7)\n",
    "plt.plot(fit_line, poly_fit(fit_line), label='Polynomial Fit', color='red')\n",
    "plt.title('Tank Mass (Run)')\n",
    "plt.ylim(0,15)\n",
    "plt.grid(True)\n",
    "plt.legend()\n",
    "plt.show()"
   ]
  },
  {
   "cell_type": "code",
   "execution_count": null,
   "id": "09f2b07a",
   "metadata": {},
   "outputs": [],
   "source": [
    "# If using Method 2 for mass data fit\n",
    "def integrand(x):\n",
    "    return derivative_poly_fit(x)\n",
    "\n",
    "derivative_poly_fit = poly_fit.deriv()\n",
    "integrated_mass, _ = quad(integrand, min(x_coordinates), max(x_coordinates))"
   ]
  },
  {
   "cell_type": "code",
   "execution_count": null,
   "id": "0ef8232f",
   "metadata": {},
   "outputs": [],
   "source": [
    "# Total Mass (end of fill)\n",
    "m_total_start = 8\n",
    "\n",
    "plt.figure(figsize=(10, 6))\n",
    "plt.plot(time_range_fill, mass_range, label='Mass (kg)')\n",
    "plt.axhline(y= m_total_start, color='red', linestyle='--', linewidth=2)\n",
    "plt.title('Tank Mass Filling and Heating (Load Cell)')\n",
    "#plt.xlim(1750,2000)\n",
    "#plt.ylim(7, 9)\n",
    "plt.grid(True)\n",
    "plt.show()"
   ]
  },
  {
   "cell_type": "code",
   "execution_count": null,
   "id": "ae0993b5",
   "metadata": {},
   "outputs": [],
   "source": [
    "# Mass from diptube length (ullage) estimate\n",
    "# m_liq, m_gas, ullage_percentage = get_carbon_dioxide_mass_known_ullage(outdoor_temp, 25)\n",
    "# diptube_mass = m_liq + m_gas"
   ]
  },
  {
   "cell_type": "code",
   "execution_count": null,
   "id": "0392822e",
   "metadata": {},
   "outputs": [],
   "source": [
    "# mass estimates\n",
    "print('Load Cell Mass (end of fill) =', m_total_start, 'kg')\n",
    "print('Integrated Mass Flow Rate Fit =', abs(integrated_mass), 'kg')"
   ]
  },
  {
   "cell_type": "markdown",
   "id": "176efda3",
   "metadata": {},
   "source": [
    "## 6. Calculate Important Parameters"
   ]
  },
  {
   "cell_type": "markdown",
   "id": "3d9dbd40",
   "metadata": {},
   "source": [
    "This is where the important parameters are calculated. Copy over what is printed here to the LaTex reports."
   ]
  },
  {
   "cell_type": "code",
   "execution_count": null,
   "id": "f7078575",
   "metadata": {},
   "outputs": [],
   "source": [
    "# fill time\n",
    "fill_time = start_time - start_time_fill"
   ]
  },
  {
   "cell_type": "code",
   "execution_count": null,
   "id": "66918d36",
   "metadata": {},
   "outputs": [],
   "source": [
    "# peak tank pressure\n",
    "peak_tank_pressure = max(p_tank_range)\n",
    "\n",
    "# peak_tank_temperature\n",
    "peak_tank_temp = max(tank_temp_range)\n",
    "\n",
    "# peak run pressure\n",
    "peak_run_pressure = max(p_run_range)\n",
    "\n",
    "# peak combustion chamber pressure\n",
    "peak_cc_pressure = max(p_cc_range)"
   ]
  },
  {
   "cell_type": "code",
   "execution_count": null,
   "id": "c004d96e",
   "metadata": {},
   "outputs": [],
   "source": [
    "# ullage factor, liquid and gaseous nitrous mass\n",
    "m_liq, m_gas, ullage_percentage = get_nitrous_mass_unknown_ullage(peak_tank_pressure, m_total_start)\n",
    "#m_liq, m_gas, ullage_percentage = get_nitrous_mass_known_ullage(outdoor_temp)"
   ]
  },
  {
   "cell_type": "code",
   "execution_count": null,
   "id": "1200a90b",
   "metadata": {},
   "outputs": [],
   "source": [
    "# mass flow rate\n",
    "average_mass_flow_rate, _ = quad(lambda x: derivative_poly_fit(x), start_time_liq, end_time_liq)\n",
    "average_mass_flow_rate = average_mass_flow_rate / (end_time_liq - start_time_liq)\n",
    "peak_mass_flow_rate = minimize_scalar(lambda x: derivative_poly_fit(x), bounds=(start_time_liq, end_time_liq), method='bounded').fun\n",
    "\n",
    "# discharge coefficient\n",
    "average_c_d = calculate_discharge_coefficient(-average_mass_flow_rate, hole_diameter, num_holes, p_run_range, run_temp_range, delta_p_run_cc, temp_liquid_density_dict)\n",
    "peak_c_d = calculate_discharge_coefficient(-peak_mass_flow_rate, hole_diameter, num_holes, p_run_range, run_temp_range, delta_p_run_cc, temp_liquid_density_dict)"
   ]
  },
  {
   "cell_type": "code",
   "execution_count": null,
   "id": "df485a9b",
   "metadata": {},
   "outputs": [],
   "source": [
    "# burn time\n",
    "burn_time = end_time - start_time\n",
    "\n",
    "# peak thrust\n",
    "peak_thrust = max(thrust_range)\n",
    "\n",
    "# total impulse\n",
    "total_impulse = calculate_total_impulse(time_range, thrust_range)"
   ]
  },
  {
   "cell_type": "code",
   "execution_count": null,
   "id": "3a7d1a7e",
   "metadata": {},
   "outputs": [],
   "source": [
    "# nozzle mass flow rate\n",
    "nozzle_mass_flow_rate = [nozzle_mass_flow_rate(t, p, A, gamma, R, T_o) for t, p in zip(time_range, p_cc_range)]\n",
    "\n",
    "## specific impulse\n",
    "\n",
    "# Method 1: Use Nozzle Mass Flow Rate\n",
    "isp = []\n",
    "for thrust, mdot in zip(thrust_range, nozzle_mass_flow_rate):\n",
    "    isp_value = thrust / (mdot * 9.81)\n",
    "    isp.append(isp_value)\n",
    "\n",
    "average_isp_value = np.mean([value for t, value in zip(time_range, isp) if start_time_liq <= t <= end_time_liq])\n",
    "\n",
    "# Method 2: Total Impulse\n",
    "total_impulse_isp = total_impulse / (((mean_mass + m_fuel) * 9.81))"
   ]
  },
  {
   "cell_type": "code",
   "execution_count": null,
   "id": "73a6133b",
   "metadata": {},
   "outputs": [],
   "source": [
    "# print values\n",
    "print('Ullage Factor =', ullage_percentage, '%')\n",
    "print('Fill Time =', fill_time, 's')\n",
    "print('Peak Tank Pressure =', peak_tank_pressure, 'psi')\n",
    "print('Peak Tank Temp =', peak_tank_temp, 'C')\n",
    "print('Peak Run Pressure =', peak_run_pressure, 'psi')\n",
    "print('Peak CC Pressure =', peak_cc_pressure, 'psi')\n",
    "print('Peak Mass Flow Rate =', - peak_mass_flow_rate, 'kg/s')\n",
    "print('Average Mass Flow Rate =', - average_mass_flow_rate, 'kg/s')\n",
    "print('Mass of Liquid =', m_liq, 'kg')\n",
    "print('Mass of Gas =', m_gas, 'kg')\n",
    "print('Burn Time =', burn_time, 's')\n",
    "print('Peak Thrust =', peak_thrust, 'N')\n",
    "print('Total Impulse =', total_impulse, 'Ns')\n",
    "print('Specific Impulse (nozzle mass flow rate) =', average_isp_value, 's')\n",
    "print('Specific Impulse (total impulse) =', total_impulse_isp, 's')"
   ]
  },
  {
   "cell_type": "markdown",
   "id": "8ebf545a",
   "metadata": {},
   "source": [
    "## 7. Mass Error Propagation"
   ]
  },
  {
   "cell_type": "markdown",
   "id": "959abafe",
   "metadata": {},
   "source": [
    "This section propogates the error in the mass data to the mass flow rate and discharge coefficient"
   ]
  },
  {
   "cell_type": "code",
   "execution_count": null,
   "id": "e8b0adba",
   "metadata": {},
   "outputs": [],
   "source": [
    "# Mass Error (standard deviation and standard error)\n",
    "#mass_data = np.array([m_total_start, abs(integrated_mass), diptube_mass])\n",
    "mass_data = np.array([m_total_start, abs(integrated_mass)])\n",
    "mean_mass = np.mean(mass_data)\n",
    "std_dev = np.std(mass_data, ddof=1)\n",
    "std_error = std_dev / np.sqrt(len(mass_data))\n",
    "\n",
    "print(\"Mean Mass:\", mean_mass, \"kg\")\n",
    "print(\"Standard Deviation:\", std_dev, \"kg\")\n",
    "print(\"Standard Error:\", std_error, \"kg\")"
   ]
  },
  {
   "cell_type": "code",
   "execution_count": null,
   "id": "ae9d01cc",
   "metadata": {},
   "outputs": [],
   "source": [
    "# Mass Flow Rate Error\n",
    "mass_flow_rate_std_error = np.abs(average_mass_flow_rate) * std_error"
   ]
  },
  {
   "cell_type": "code",
   "execution_count": null,
   "id": "88bdf74e",
   "metadata": {},
   "outputs": [],
   "source": [
    "# Discharge Coefficient Error\n",
    "average_c_d_std_error = calculate_discharge_coefficient_uncertainty(average_c_d, hole_diameter, num_holes, p_run_range, delta_p_run_cc, temp_liquid_density_dict, mass_flow_rate_std_error)\n",
    "peak_c_d_std_error = calculate_discharge_coefficient_uncertainty(peak_c_d, hole_diameter, num_holes, p_run_range, delta_p_run_cc, temp_liquid_density_dict, mass_flow_rate_std_error)"
   ]
  },
  {
   "cell_type": "code",
   "execution_count": null,
   "id": "c2583b3c",
   "metadata": {},
   "outputs": [],
   "source": [
    "# Total Impulse Error\n",
    "upper_mean_mass = mean_mass + std_error\n",
    "lower_mean_mass = mean_mass - std_error\n",
    "\n",
    "upper_m_fuel = m_fuel + m_fuel_uncertainty\n",
    "lower_m_fuel = m_fuel - m_fuel_uncertainty\n",
    "\n",
    "# Calculate upper and lower bounds for total_impulse_isp\n",
    "upper_total_impulse_isp = (total_impulse) / (((lower_mean_mass + upper_m_fuel) * 9.8))\n",
    "lower_total_impulse_isp = (total_impulse) / (((upper_mean_mass + lower_m_fuel) * 9.8))"
   ]
  },
  {
   "cell_type": "markdown",
   "id": "3c145a0a",
   "metadata": {},
   "source": [
    "## 8. Plots"
   ]
  },
  {
   "cell_type": "markdown",
   "id": "3a53e030",
   "metadata": {},
   "source": [
    "Plot the results"
   ]
  },
  {
   "cell_type": "code",
   "execution_count": null,
   "id": "6c6eb0ca",
   "metadata": {},
   "outputs": [],
   "source": [
    "# Fill Pressure\n",
    "plt.figure(figsize=(10, 6))\n",
    "plt.plot(time_range_fill, p_fill_range, label='Fill Pressure')\n",
    "plt.plot(time_range_fill, p_tank_fill_range, label='Tank Pressure')\n",
    "plt.xlabel('Time (s)', fontsize = 15)\n",
    "plt.ylabel('Pressure (psi)', fontsize = 15)\n",
    "plt.title('Fill Pressure', fontsize = 15)\n",
    "plt.grid(True)\n",
    "plt.legend(fontsize = 12)\n",
    "plt.gca().set_facecolor('white')\n",
    "plt.savefig('fill_pressure.png', facecolor='white')\n",
    "plt.show()\n",
    "\n",
    "# Fill Pressure Zoomed\n",
    "plt.figure(figsize=(10, 6))\n",
    "plt.plot(time_range_fill, p_fill_range, label='Fill Pressure')\n",
    "plt.plot(time_range_fill, p_tank_fill_range, label='Tank Pressure')\n",
    "plt.xlabel('Time (s)', fontsize = 15)\n",
    "plt.ylabel('Pressure (psi)', fontsize = 15)\n",
    "plt.title('Fill Pressure', fontsize = 15)\n",
    "plt.grid(True)\n",
    "plt.legend(fontsize = 15)\n",
    "plt.xlim(0,30)\n",
    "#plt.ylim(0,500)\n",
    "plt.gca().set_facecolor('white')\n",
    "plt.savefig('fill_pressure_zoomed.png', facecolor='white')\n",
    "plt.show()"
   ]
  },
  {
   "cell_type": "code",
   "execution_count": null,
   "id": "c767e6c0",
   "metadata": {},
   "outputs": [],
   "source": [
    "# Temperature\n",
    "plt.figure(figsize=(10, 6))\n",
    "plt.plot(time_range, run_temp_range, label='Run Temperature (C)')\n",
    "plt.plot(time_range, tank_temp_range, label='Tank Temperature (C)')\n",
    "plt.xlabel('Time (s)', fontsize = 15)\n",
    "plt.ylabel('Temperature (C)', fontsize = 15)\n",
    "plt.title('Tank Emptying Temperature', fontsize = 15)\n",
    "plt.grid(True)\n",
    "plt.legend(fontsize = 15)\n",
    "plt.gca().set_facecolor('white')\n",
    "plt.savefig('tank_emptying_temp.png', facecolor='white')\n",
    "plt.show()"
   ]
  },
  {
   "cell_type": "code",
   "execution_count": null,
   "id": "c0239754",
   "metadata": {},
   "outputs": [],
   "source": [
    "# Tank/Run Pressure\n",
    "plt.figure(figsize=(10, 6))\n",
    "plt.plot(time_range, p_tank_range, label='Tank Pressure')\n",
    "plt.plot(time_range, p_run_range, label='Run Line Pressure')\n",
    "plt.plot(time_range, delta_p_tank_run, linestyle='--', label='Delta_P')\n",
    "plt.xlabel('Time (s)', fontsize = 15)\n",
    "plt.ylabel('Pressure (psi)', fontsize = 15)\n",
    "plt.title('Tank Emptying Pressure Drop', fontsize = 15)\n",
    "plt.grid(True)\n",
    "plt.legend(fontsize = 12)\n",
    "plt.gca().set_facecolor('white')\n",
    "plt.yticks(np.arange(0, max(p_tank_range) + 100, 100))\n",
    "plt.savefig('tank_emptying_pressure.png', facecolor='white')\n",
    "plt.show()\n",
    "\n",
    "# Injector Pressure Drop\n",
    "plt.figure(figsize=(10, 6))\n",
    "plt.plot(time_range, p_run_range, label='Run Line Pressure')\n",
    "plt.plot(time_range, p_cc_range, label='Combustion Chamber Pressure')\n",
    "plt.plot(time_range, delta_p_run_cc, linestyle='--', label='Delta_P')\n",
    "plt.xlabel('Time (s)', fontsize = 15)\n",
    "plt.ylabel('Pressure (psi)', fontsize = 15)\n",
    "plt.title('Injector Pressure Drop', fontsize = 15)\n",
    "plt.grid(True)\n",
    "plt.legend(fontsize = 12)\n",
    "plt.gca().set_facecolor('white')\n",
    "plt.savefig('injector_pressure_drop.png', facecolor='white')\n",
    "plt.show()"
   ]
  },
  {
   "cell_type": "code",
   "execution_count": null,
   "id": "ae7a82e8",
   "metadata": {},
   "outputs": [],
   "source": [
    "# Thrust\n",
    "plt.figure(figsize=(10, 6))\n",
    "plt.plot(time_range, thrust_range, label='Thrust (N)')\n",
    "plt.xlabel('Time (s)', fontsize = 15)\n",
    "plt.ylabel('Thrust (N)', fontsize = 15)\n",
    "plt.title('Thrust', fontsize = 15)\n",
    "plt.grid(True)\n",
    "plt.gca().set_facecolor('white')\n",
    "plt.savefig('thrust.png', facecolor='white')\n",
    "plt.show()"
   ]
  },
  {
   "cell_type": "code",
   "execution_count": null,
   "id": "cc883a16",
   "metadata": {},
   "outputs": [],
   "source": [
    "# Mass\n",
    "plt.figure(figsize=(10, 6))\n",
    "plt.plot(time_range_fill, mass_range, label='Mass (kg)')\n",
    "plt.xlabel('Time (s)', fontsize = 15)\n",
    "plt.ylabel('Mass (kg)', fontsize = 15)\n",
    "plt.title('Tank Mass Filling and Heating (Load Cell)', fontsize = 15)\n",
    "plt.grid(True)\n",
    "plt.gca().set_facecolor('white')\n",
    "plt.savefig('mass_fill.png', facecolor='white')\n",
    "plt.show()\n",
    "\n",
    "\n",
    "# 2.9 Mass (Run)\n",
    "plt.figure(figsize=(10, 6))\n",
    "plt.plot(time_range, mass_run_range, label='Original Mass (kg)', alpha=0.7)\n",
    "plt.plot(fit_line, poly_fit(fit_line), label='Polynomial Fit', color='red')\n",
    "upper_bound = poly_fit(fit_line) + std_error\n",
    "lower_bound = poly_fit(fit_line) - std_error\n",
    "plt.fill_between(fit_line, upper_bound, lower_bound, color='red', alpha=0.3, label='Uncertainty Bounds')\n",
    "plt.title('Tank Mass (Run)', fontsize = 15)\n",
    "plt.xlabel('Time (s)', fontsize = 15)\n",
    "plt.ylabel('Mass (kg)', fontsize = 15)\n",
    "plt.grid(True)\n",
    "plt.ylim(0,15)\n",
    "plt.gca().set_facecolor('white')\n",
    "plt.legend(fontsize = 12)\n",
    "plt.savefig('mass_tank_emptying.png', facecolor='white')\n",
    "plt.show()\n",
    "\n",
    "# Mass Flow Rate\n",
    "derivative_values = -derivative_poly_fit(fit_line)\n",
    "\n",
    "# Calculate the upper and lower bounds using the standard error\n",
    "upper_bound = derivative_values + mass_flow_rate_std_error\n",
    "lower_bound = derivative_values - mass_flow_rate_std_error\n",
    "\n",
    "# Create the plot\n",
    "plt.figure(figsize=(10, 6))\n",
    "plt.plot(fit_line, derivative_values, label='Time Derivative of Liquid Phase Mass (ṁ)', color='teal')\n",
    "plt.axhline(y= - average_mass_flow_rate, color='blue', linestyle='--', label=\"Average ṁ (Liquid Phase) = 0.77 kg/s\", linewidth=2)\n",
    "plt.axhline(y= - peak_mass_flow_rate, color='darkorange', linestyle='--', label=\"Peak ṁ = 0.97 kg/s\", linewidth=2)\n",
    "plt.fill_between(fit_line, upper_bound, lower_bound, color='teal', alpha=0.3, label='Uncertainty Bounds')\n",
    "plt.title('Mass Flow Rate', fontsize=15)\n",
    "plt.xlabel('Time (s)', fontsize=15)\n",
    "plt.ylabel('Mass Flow Rate (kg/s)', fontsize=15)\n",
    "plt.grid(True)\n",
    "plt.legend(fontsize=12)\n",
    "plt.xlim(start_time_liq, end_time_liq)\n",
    "plt.ylim(0, 2)\n",
    "plt.gca().set_facecolor('white')\n",
    "plt.savefig('injector_mass_flow_rate.png', facecolor='white')\n",
    "plt.show()\n",
    "\n",
    "average_c_d = np.array(average_c_d)\n",
    "average_c_d_std_error = np.array(average_c_d_std_error)\n",
    "peak_c_d = np.array(peak_c_d)\n",
    "peak_c_d_std_error = np.array(peak_c_d_std_error)\n",
    "\n",
    "# Discharge Coefficient Estimation\n",
    "plt.figure(figsize=(10, 6))\n",
    "plt.plot(time_range, average_c_d, label='Average ṁ = 0.77 kg/s (CO2)', color = 'blue')\n",
    "plt.plot(time_range, peak_c_d, label='Peak ṁ = 0.97 kg/s (CO2)', color = 'darkorange')\n",
    "upper_bound_avg = average_c_d + average_c_d_std_error\n",
    "lower_bound_avg = average_c_d - average_c_d_std_error\n",
    "upper_bound_peak = peak_c_d + peak_c_d_std_error\n",
    "lower_bound_peak = peak_c_d - peak_c_d_std_error\n",
    "plt.fill_between(time_range, upper_bound_avg, lower_bound_avg, color='blue', alpha=0.3, label='Uncertainty Bounds')\n",
    "plt.fill_between(time_range, upper_bound_peak, lower_bound_peak, color='darkorange', alpha=0.3, label='Uncertainty Bounds')\n",
    "plt.title('Discharge Coefficient Estimation', fontsize = 15)\n",
    "plt.xlabel('Time (s)', fontsize = 15)\n",
    "plt.ylabel('Discharge Coefficient', fontsize = 15)\n",
    "plt.grid(True)\n",
    "plt.legend(fontsize = 12)\n",
    "plt.xlim(start_time_liq, end_time_liq)\n",
    "plt.ylim(0,0.6)\n",
    "plt.gca().set_facecolor('white')\n",
    "plt.savefig('discharge_coefficient.png', facecolor='white')\n",
    "plt.show()"
   ]
  },
  {
   "cell_type": "code",
   "execution_count": null,
   "id": "a16877a7",
   "metadata": {},
   "outputs": [],
   "source": [
    "# Nozzle Mass Flow Rate\n",
    "plt.figure(figsize=(10, 6))\n",
    "plt.plot(time_range, nozzle_mass_flow_rate)\n",
    "plt.xlabel(\"Time (s)\", fontsize = 15)\n",
    "plt.ylabel(\"Mass Flow Rate (kg/s)\", fontsize = 15)\n",
    "plt.title(\"Estimated Nozzle Mass Flow Rate\", fontsize = 15)\n",
    "plt.grid(True)\n",
    "plt.gca().set_facecolor('white')\n",
    "plt.savefig('nozzle_mass_flow_rate.png', facecolor='white')\n",
    "plt.show()\n",
    "\n",
    "#upper_mean_mass = mean_mass + std_error\n",
    "#lower_mean_mass = mean_mass - std_error\n",
    "\n",
    "#upper_m_fuel = m_fuel + m_fuel_uncertainty\n",
    "#lower_m_fuel = m_fuel - m_fuel_uncertainty\n",
    "\n",
    "# Calculate upper and lower bounds for total_impulse_isp\n",
    "#upper_total_impulse_isp = (total_impulse) / (((lower_mean_mass + upper_m_fuel) * 9.8))\n",
    "#lower_total_impulse_isp = (total_impulse) / (((upper_mean_mass + lower_m_fuel) * 9.8))\n",
    "#print(upper_total_impulse_isp)\n",
    "#print(lower_total_impulse_isp)\n",
    "\n",
    "# Specific Impulse (Estimated)\n",
    "plt.figure(figsize=(10, 6))\n",
    "plt.plot(time_range, isp, label=\"Nozzle Mass Fow Rate ISP estimate \")\n",
    "plt.axhline(y=average_isp_value, color='r', linestyle='--', label=\"Nozzle Mass Fow Rate ISP average estimate = 228 s\")\n",
    "plt.axhline(y=total_impulse_isp, color='g', linestyle='--', label=\"Total Impulse ISP estimate = 232 s\")\n",
    "plt.fill_between(time_range, upper_total_impulse_isp, lower_total_impulse_isp, color='g', alpha=0.2)\n",
    "plt.xlabel(\"Time (s)\", fontsize = 15)\n",
    "plt.ylabel(\"Specific Impulse (s)\", fontsize = 15)\n",
    "plt.title(\"Estimated Specific Impulse (liquid phase)\", fontsize = 15)\n",
    "plt.grid(True)\n",
    "plt.legend(fontsize = 12)\n",
    "plt.xlim(start_time_liq, end_time_liq)\n",
    "plt.ylim(150,300)\n",
    "plt.gca().set_facecolor('white')\n",
    "plt.savefig('isp.png', facecolor='white')\n",
    "plt.show()"
   ]
  }
 ],
 "metadata": {
  "kernelspec": {
   "display_name": "Python [conda env:base] *",
   "language": "python",
   "name": "conda-base-py"
  },
  "language_info": {
   "codemirror_mode": {
    "name": "ipython",
    "version": 3
   },
   "file_extension": ".py",
   "mimetype": "text/x-python",
   "name": "python",
   "nbconvert_exporter": "python",
   "pygments_lexer": "ipython3",
   "version": "3.12.7"
  }
 },
 "nbformat": 4,
 "nbformat_minor": 5
}
