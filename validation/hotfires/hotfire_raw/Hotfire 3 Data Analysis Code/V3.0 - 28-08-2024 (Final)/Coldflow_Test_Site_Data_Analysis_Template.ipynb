{
 "cells": [
  {
   "cell_type": "code",
   "execution_count": 5,
   "id": "e6ac8f12",
   "metadata": {},
   "outputs": [],
   "source": [
    "import os\n",
    "import math\n",
    "import datetime\n",
    "import numpy as np\n",
    "import pandas as pd\n",
    "from math import pi\n",
    "import scipy.integrate as spi\n",
    "from scipy.integrate import quad\n",
    "from matplotlib import pyplot as plt\n",
    "from scipy.signal import savgol_filter\n",
    "from scipy.ndimage import median_filter\n",
    "from scipy.ndimage import gaussian_filter1d\n",
    "from scipy.interpolate import UnivariateSpline\n",
    "from sklearn.linear_model import LinearRegression\n",
    "from matplotlib.ticker import (AutoMinorLocator, MultipleLocator)"
   ]
  },
  {
   "cell_type": "markdown",
   "id": "26e8fc91",
   "metadata": {},
   "source": [
    "## 1. Define Constants"
   ]
  },
  {
   "cell_type": "markdown",
   "id": "e8887f15",
   "metadata": {},
   "source": [
    "Define the constants specific to this coldflow test"
   ]
  },
  {
   "cell_type": "code",
   "execution_count": null,
   "id": "6f90a9d9",
   "metadata": {},
   "outputs": [],
   "source": [
    "# run tank dimensions\n",
    "inner_diameter = 0.146304                                       # m\n",
    "cyl_height = 0.912114                                           # m\n",
    "V_total = 0.01533                                               # m^3 \n",
    "base_area = np.pi * ((inner_diameter/2)**2)                     # m^2"
   ]
  },
  {
   "cell_type": "code",
   "execution_count": null,
   "id": "1d167bf4",
   "metadata": {},
   "outputs": [],
   "source": [
    "# injector\n",
    "hole_diameter = 2                                               # mm\n",
    "num_holes = ???"
   ]
  },
  {
   "cell_type": "code",
   "execution_count": null,
   "id": "c1abef05",
   "metadata": {},
   "outputs": [],
   "source": [
    "# input filename\n",
    "input_data = '???.txt'"
   ]
  },
  {
   "cell_type": "code",
   "execution_count": null,
   "id": "24c57837",
   "metadata": {},
   "outputs": [],
   "source": [
    "# ambient temp\n",
    "outdoor_temp = ???                                               # Celcius"
   ]
  },
  {
   "cell_type": "markdown",
   "id": "5a82e35d",
   "metadata": {},
   "source": [
    "## 2. Define Functions"
   ]
  },
  {
   "cell_type": "markdown",
   "id": "01ccb09d",
   "metadata": {},
   "source": [
    "These are the functions required to run the code. Add any additional functions in this section."
   ]
  },
  {
   "cell_type": "code",
   "execution_count": 1,
   "id": "a5379fe8",
   "metadata": {},
   "outputs": [],
   "source": [
    "# get data in time range required\n",
    "def get_data_range(data, time, start, end):\n",
    "        return [d for t, d in zip(time, data) if start <= t <= end]"
   ]
  },
  {
   "cell_type": "code",
   "execution_count": 3,
   "id": "1c3c394f",
   "metadata": {},
   "outputs": [],
   "source": [
    "# determine co2 vapour pressure, liquid density and gas density given temperature\n",
    "def carbon_dioxide_equations(temp_kelvin):\n",
    "    # https://mychemengmusings.wordpress.com/2022/06/23/five-short-equations-describing-the-saturated-density-and-enthalpy-of-carbon-dioxide-co2-vapor-and-liquid/\n",
    "    ZsatT = 1 + (0.001613*(temp_kelvin*(304.128-temp_kelvin))**(0.6))-0.67508\n",
    "    \n",
    "    # Density of Saturated Liquid\n",
    "    p_l =  ((-3.53267*(temp_kelvin-216.592))/(ZsatT**(0.646)))+1180.409\n",
    "    \n",
    "    # Density of Saturated Gas\n",
    "    p_g = 467.6 * math.exp(-75.135 * (304.128-temp_kelvin)**0.68 / temp_kelvin**1.15 / ZsatT**0.33  - 0.1855 )\n",
    "    \n",
    "    # Vapour Pressure\n",
    "    p = ((p_g * ZsatT * temp_kelvin)/529.304)*100\n",
    "    \n",
    "    return p, p_l, p_g\n",
    "\n",
    "# turn CO2 vapour pressure, liquid density and gas density into lists\n",
    "def carbon_dioxide_equation_lists(temp_list):\n",
    "    vap_list = []\n",
    "    liquid_list = []\n",
    "    gas_list = []\n",
    "    for temp_kelvin in temp_list:\n",
    "        p, p_l, p_g = carbon_dioxide_equations(temp_kelvin)\n",
    "        vap_list.append(p)\n",
    "        liquid_list.append(p_l)\n",
    "        gas_list.append(p_g)\n",
    "        \n",
    "    return vap_list, liquid_list, gas_list"
   ]
  },
  {
   "cell_type": "code",
   "execution_count": 4,
   "id": "15305d59",
   "metadata": {},
   "outputs": [],
   "source": [
    "# Determine liquid density from temperature. Finds key from closest value in dictionary using list comprehension\n",
    "def get_liquid_density_from_pressure(temp_liquid_density_dict, pressure_temp_dict, pressure_key):\n",
    "    pressure_KPa = pressure_key * 6.89476\n",
    "    temp_K = pressure_temp_dict.get(pressure_KPa) or pressure_temp_dict[min(pressure_temp_dict.keys(), key = lambda key: abs(key-pressure_KPa))]\n",
    "    liquid_density = temp_liquid_density_dict.get(temp_K) or temp_liquid_density_dict[min(temp_liquid_density_dict.keys(), key = lambda key: abs(key-temp_K))]\n",
    "    \n",
    "    return liquid_density"
   ]
  },
  {
   "cell_type": "code",
   "execution_count": null,
   "id": "52d295ba",
   "metadata": {},
   "outputs": [],
   "source": [
    "# determine discharge coefficient given mass flow rate and combustion chamber pressure\n",
    "def calculate_discharge_coefficient(n_o, hole_diameter, num_holes, p_run_range, run_temp_range, delta_p_run_cc, temp_liquid_density_dict):\n",
    "    injection_area = (np.pi * ((hole_diameter/1000)/2)**2)\n",
    "    discharge_coefficient = []\n",
    "    for i in range(len(p_run_range)):\n",
    "        liquid_density = get_liquid_density_from_pressure(temp_liquid_density_dict, pressure_temp_dict, p_run_range[i])\n",
    "        discharge_coeff = n_o / (num_holes * injection_area * np.sqrt(2*liquid_density*delta_p_run_cc[i]*6892.76))\n",
    "        discharge_coefficient.append(discharge_coeff)\n",
    "        \n",
    "    return discharge_coefficient\n",
    "\n",
    "def calculate_discharge_coefficient_uncertainty(discharge_coefficient, hole_diameter, num_holes, p_run_range, delta_p_run_cc, temp_liquid_density_dict, mass_flow_rate_std_error):\n",
    "    injection_area = (np.pi * ((hole_diameter/1000)/2)**2)\n",
    "    c_d_std_error = []\n",
    "    for i in range(len(p_run_range)):\n",
    "        liquid_density = get_liquid_density_from_pressure(temp_liquid_density_dict, pressure_temp_dict, p_run_range[i])\n",
    "        discharge_coefficient_std_error = (1 / (num_holes * injection_area * np.sqrt(2*liquid_density*delta_p_run_cc[i]*6892.76))) * mass_flow_rate_std_error[i]\n",
    "        c_d_std_error.append(discharge_coefficient_std_error)\n",
    "    return c_d_std_error"
   ]
  },
  {
   "cell_type": "code",
   "execution_count": null,
   "id": "1eedfcf2",
   "metadata": {},
   "outputs": [],
   "source": [
    "def get_carbon_dioxide_mass_unknown_ullage(pressure, m_total):\n",
    "    \n",
    "    temp_K = pressure_temp_dict.get(pressure) or pressure_temp_dict[min(pressure_temp_dict.keys(), key = lambda key: abs(key-pressure))]\n",
    "    p, p_liq, p_gas = carbon_dioxide_equations(temp_K)\n",
    "    x = (V_total-((m_total/p_gas)))/((m_total/p_liq)-(m_total/p_gas))      # x = mass of liquid / total mass\n",
    "    m_liq = x * m_total                                                    # get mass of liquid in tank\n",
    "    m_gas = (1-x) * m_total                                                # get mass of gas in tank\n",
    "    V_liq = m_liq / p_liq                                                  # get volume of liquid\n",
    "    V_gas = m_gas / p_gas                                                  # get volume of gas\n",
    "    V_liq_height = V_liq / base_area                                       # get height of liquid in tank\n",
    "    dip_tube_length = cyl_height - V_liq_height                            # get diptube length\n",
    "    ullage_percentage = (dip_tube_length / cyl_height) * 100     \n",
    "    \n",
    "    return m_liq, m_gas, ullage_percentage\n",
    "    \n",
    "# def get_carbon_dioxide_mass_known_ullage(outside_temp, ullage_percentage):\n",
    "    \n",
    "#     p, p_liq, p_gas = carbon_dioxide_equations(outside_temp + 273.15)      # get pressure and density values given known temperature\n",
    "#     V_liq_height = cyl_height * (1-(ullage_percentage / 100))              # get height of liquid given fixed 10% ullage\n",
    "#     V_liq = V_liq_height * base_area                                       # get volume of liquid in tank using liquid height and cylinder area of base\n",
    "#     m_liq = V_liq * p_liq                                                  # get mass of liquid given volume and density at given temperature\n",
    "#     V_gas_height = cyl_height * (ullage_percentage / 100)                  # get height of gas (ullage)\n",
    "#     V_gas = V_gas_height * base_area                                       # get volume of gas in tank using ullage and cylinder area of base\n",
    "#     m_gas = V_gas * p_gas                                                  # get mass of gas given volume and density at given temperature\n",
    "#     m_total = m_liq + m_gas                                                # get total amount of carbon dioxide\n",
    "#     ullage_percentage = (V_gas_height / cyl_height) * 100                  # calculate ullage percentage\n",
    "    \n",
    "#     return m_liq, m_gas, ullage_percentage"
   ]
  },
  {
   "cell_type": "markdown",
   "id": "adb754bf",
   "metadata": {},
   "source": [
    "## 3. Determine Start and End Times"
   ]
  },
  {
   "cell_type": "markdown",
   "id": "4c81e4ed",
   "metadata": {},
   "source": [
    "This section is used to determine the correct start and end times for filling, burn and liquid phase. I had scripts that would do this automatically, but it was too unreliable with the noisy data. While it might take a bit of time to tweak, hardcoding it like this is much more accurate. It can be very quick after you've done it for the first time. "
   ]
  },
  {
   "cell_type": "code",
   "execution_count": null,
   "id": "bc90fd66",
   "metadata": {},
   "outputs": [],
   "source": [
    "column_names = ['time_ms', 'run_pressure_V', 'fill_pressure_V', 'purge_pressure_V', 'tank_pressure_V', 'tank_mass_V', 'thrust_V', 'cc_pressure_V', 'tank_temp_V', 'run_temp_V', 'vent_temp_V', 'garbage', 'run_pressure_sw', 'fill_pressure_sw', 'purge_pressure_sw', 'tank_pressure_sw', 'tank_mass_sw', 'thrust_sw', 'cc_pressure_sw', 'run_temp_sw', 'tank_temp_sw', 'ven_temp_sw']\n",
    "df = pd.read_csv(input_data, sep='\\t', names=column_names, index_col=False, dtype=np.float64, skip_blank_lines=True)\n",
    "time, p_fill, p_tank, p_run, p_cc, tank_temp, run_temp, tank_mass, thrust = (df['time_ms'] / 1000, df['fill_pressure_sw'], df['tank_pressure_sw'], df['run_pressure_sw'], df['cc_pressure_sw'], df['tank_temp_sw'], df['run_temp_sw'], df['tank_mass_sw'], df['thrust_sw'])"
   ]
  },
  {
   "cell_type": "code",
   "execution_count": null,
   "id": "302cfc58",
   "metadata": {},
   "outputs": [],
   "source": [
    "# play around with these values until you find the correct times. Keep printing out the plots below until you get what you want.\n",
    "start_time_fill = ???\n",
    "start_time = ???\n",
    "end_time = ???\n",
    "end_time_fill = start_time\n",
    "start_time_liq_pre = ???\n",
    "end_time_liq_pre = ???\n",
    "start_time_liq = ???\n",
    "end_time_liq = ???"
   ]
  },
  {
   "cell_type": "code",
   "execution_count": null,
   "id": "f1d03691",
   "metadata": {},
   "outputs": [],
   "source": [
    "plt.figure(figsize=(10, 6))\n",
    "plt.plot(time, p_tank)\n",
    "plt.title('Tank Pressure')\n",
    "plt.grid(True)\n",
    "plt.xlim(start_time_fill, start_time)\n",
    "plt.show()\n",
    "\n",
    "plt.figure(figsize=(10, 6))\n",
    "plt.plot(time, p_run)\n",
    "plt.plot(time, p_cc)\n",
    "plt.axvline(x= start_time_liq_pre, color='darkorange', linestyle='--', linewidth=2)\n",
    "plt.axvline(x= end_time_liq_pre, color='blue', linestyle='--', linewidth=2)\n",
    "plt.title('Run Pressure')\n",
    "plt.grid(True)\n",
    "plt.xlim(start_time, end_time)\n",
    "plt.show()\n",
    "\n",
    "plt.figure(figsize=(10, 6))\n",
    "plt.plot(time, thrust)\n",
    "#plt.axvline(x= liq_start, color='darkorange', linestyle='--', linewidth=2)\n",
    "#plt.axvline(x= liq_end, color='blue', linestyle='--', linewidth=2)\n",
    "plt.title('Thrust')\n",
    "plt.grid(True)\n",
    "plt.xlim(start_time, end_time)\n",
    "plt.show()"
   ]
  },
  {
   "cell_type": "markdown",
   "id": "580a8f17",
   "metadata": {},
   "source": [
    "## 4. Extract Data"
   ]
  },
  {
   "cell_type": "markdown",
   "id": "f9b6e4b4",
   "metadata": {},
   "source": [
    "This section actually extracts the data from the txt file and gets the correct data ranges and pressure deltas."
   ]
  },
  {
   "cell_type": "code",
   "execution_count": null,
   "id": "968ab214",
   "metadata": {},
   "outputs": [],
   "source": [
    "# create dictionary of carbon_dioxide liquid density and temperature values (as solving for liquid density from temp is too mathematically intensive)\n",
    "temp_list = np.linspace(183, 309, num = 10000)\n",
    "vap_list, liquid_list, gas_list = carbon_dioxide_equation_lists(temp_list)\n",
    "temp_liquid_density_dict = dict(zip(temp_list, liquid_list))\n",
    "pressure_temp_dict = dict(zip(vap_list, temp_list))\n",
    "\n",
    "# get time ranges\n",
    "time_range = [t - start_time for t in time[(time >= start_time) & (time <= end_time)]]\n",
    "time_range_fill = [t - start_time_fill for t in time if start_time_fill <= t <= end_time_fill]\n",
    "time_range_full = [t - start_time_fill for t in time[(time >= start_time_fill) & (time <= end_time)]]\n",
    "    \n",
    "# get data ranges in time frame\n",
    "p_fill_range = get_data_range(p_fill, time, start_time_fill, end_time_fill)\n",
    "p_tank_fill_range = get_data_range(p_tank, time, start_time_fill, end_time_fill)\n",
    "p_tank_range = get_data_range(p_tank, time, start_time, end_time)\n",
    "p_run_range = get_data_range(p_run, time, start_time, end_time)\n",
    "p_cc_range = get_data_range(p_cc, time, start_time, end_time)\n",
    "tank_temp_range = get_data_range(tank_temp, time, start_time, end_time)\n",
    "run_temp_range = get_data_range(run_temp, time, start_time, end_time)\n",
    "thrust_range = get_data_range(thrust, time, start_time, end_time)\n",
    "mass_range = get_data_range(tank_mass, time, start_time_fill, start_time)\n",
    "mass_run_range = get_data_range(tank_mass, time, start_time, end_time)\n",
    "    \n",
    "# calculate pressure deltas\n",
    "delta_p_tank_fill = [pt - pf for pt, pf in zip(p_tank_fill_range, p_fill_range)]\n",
    "delta_p_tank_run = [pt - pr for pt, pr in zip(p_tank_range, p_run_range)]\n",
    "delta_p_run_cc = [pr - pc for pr, pc in zip(p_run_range, p_cc_range)]"
   ]
  },
  {
   "cell_type": "markdown",
   "id": "5df1dd74",
   "metadata": {},
   "source": [
    "## 5. Mass Data Fitting and Mass Estimates"
   ]
  },
  {
   "cell_type": "markdown",
   "id": "87c818a0",
   "metadata": {},
   "source": [
    "This section fits the mass data and gives mass estimates"
   ]
  },
  {
   "cell_type": "code",
   "execution_count": null,
   "id": "6934d702",
   "metadata": {},
   "outputs": [],
   "source": [
    "# Low Pass Filter and Gaussian Smoothing (ideal)\n",
    "smoothed_mass_gaussian = gaussian_filter1d(mass_run_range, sigma=4) # Gaussian Smoothing\n",
    "\n",
    "plt.figure(figsize=(10, 6))\n",
    "plt.plot(time_range, mass_run_range, label='Original Mass (kg)', alpha=0.7)\n",
    "plt.plot(time_range, smoothed_mass_gaussian, label='Gaussian Smoothing', color='red')\n",
    "plt.title('Tank Mass (Run)')\n",
    "plt.grid(True)\n",
    "plt.legend()\n",
    "plt.show()"
   ]
  },
  {
   "cell_type": "code",
   "execution_count": null,
   "id": "0c47b97e",
   "metadata": {},
   "outputs": [],
   "source": [
    "# Mass Loss Estimate\n",
    "#Note: This is hardcoded for now.\n",
    "print(time_range[???])\n",
    "print(time_range[???])\n",
    "\n",
    "mass_loss_estimate = smoothed_mass_gaussian[???] - smoothed_mass_gaussian[???]"
   ]
  },
  {
   "cell_type": "code",
   "execution_count": null,
   "id": "e3952279",
   "metadata": {},
   "outputs": [],
   "source": [
    "# Total Mass (end of fill)\n",
    "m_total_start = 8.5\n",
    "\n",
    "plt.figure(figsize=(10, 6))\n",
    "plt.plot(time_range_fill, mass_range, label='Mass (kg)')\n",
    "plt.axhline(y= m_total_start, color='red', linestyle='--', linewidth=2)\n",
    "plt.title('Tank Mass Filling and Heating (Load Cell)')\n",
    "#plt.xlim(1750,2000)\n",
    "#plt.ylim(8, 9)\n",
    "plt.grid(True)\n",
    "plt.show()"
   ]
  },
  {
   "cell_type": "code",
   "execution_count": null,
   "id": "429d740e",
   "metadata": {},
   "outputs": [],
   "source": [
    "# Mass from diptube length (ullage) estimate\n",
    "# m_liq, m_gas, ullage_percentage = get_carbon_dioxide_mass_known_ullage(outdoor_temp, 25)\n",
    "# diptube_mass = m_liq + m_gas"
   ]
  },
  {
   "cell_type": "code",
   "execution_count": null,
   "id": "2f2c7d7d",
   "metadata": {},
   "outputs": [],
   "source": [
    "# mass estimates\n",
    "print('Load Cell Mass (end of fill) =', m_total_start, 'kg')\n",
    "print('Mass Loss Estimate =', mass_loss_estimate, 'kg')\n",
    "# print('Filled to diptube =', diptube_mass, 'kg')"
   ]
  },
  {
   "cell_type": "markdown",
   "id": "176efda3",
   "metadata": {},
   "source": [
    "## 6. Calculate Important Parameters"
   ]
  },
  {
   "cell_type": "markdown",
   "id": "6ec3e36e",
   "metadata": {},
   "source": [
    "This is where the important parameters are calculated. Copy over what is printed here to the LaTex reports."
   ]
  },
  {
   "cell_type": "code",
   "execution_count": null,
   "id": "f7078575",
   "metadata": {},
   "outputs": [],
   "source": [
    "# fill time\n",
    "fill_time = start_time - start_time_fill"
   ]
  },
  {
   "cell_type": "code",
   "execution_count": null,
   "id": "66918d36",
   "metadata": {},
   "outputs": [],
   "source": [
    "# peak tank pressure\n",
    "peak_tank_pressure = max(p_tank_range)\n",
    "\n",
    "# peak_tank_temperature\n",
    "peak_tank_temp = max(tank_temp_range)\n",
    "\n",
    "# peak run pressure\n",
    "peak_run_pressure = max(p_run_range)\n",
    "\n",
    "# peak combustion chamber pressure\n",
    "peak_cc_pressure = max(p_cc_range)"
   ]
  },
  {
   "cell_type": "code",
   "execution_count": null,
   "id": "1f26d217",
   "metadata": {},
   "outputs": [],
   "source": [
    "# ullage factor, liquid and gaseous carbon_dioxide mass\n",
    "m_liq, m_gas, ullage_percentage = get_carbon_dioxide_mass_unknown_ullage(peak_tank_pressure, m_total_start)\n",
    "#m_liq, m_gas, ullage_percentage = get_carbon_dioxide_mass_known_ullage(outdoor_temp)"
   ]
  },
  {
   "cell_type": "code",
   "execution_count": null,
   "id": "b719c451",
   "metadata": {},
   "outputs": [],
   "source": [
    "# mass flow rate\n",
    "time_derivative = np.gradient(smoothed_mass_gaussian, time_range)\n",
    "peak_mass_flow_rate = min(time_derivative)\n",
    "average_mass_flow_rate = np.mean([value for t, value in zip(time_range, time_derivative) if start_time_liq <= t <= end_time_liq])\n",
    "\n",
    "\n",
    "# discharge coefficient\n",
    "average_c_d = calculate_discharge_coefficient(-average_mass_flow_rate, hole_diameter, num_holes, p_run_range, run_temp_range, delta_p_run_cc, temp_liquid_density_dict)\n",
    "peak_c_d = calculate_discharge_coefficient(-peak_mass_flow_rate, hole_diameter, num_holes, p_run_range, run_temp_range, delta_p_run_cc, temp_liquid_density_dict)"
   ]
  },
  {
   "cell_type": "code",
   "execution_count": null,
   "id": "df485a9b",
   "metadata": {},
   "outputs": [],
   "source": [
    "# burn time\n",
    "burn_time = end_time - start_time\n",
    "\n",
    "# peak thrust\n",
    "peak_thrust = max(thrust_range)\n",
    "\n",
    "# total impulse\n",
    "total_impulse = calculate_total_impulse(time_range, thrust_range)"
   ]
  },
  {
   "cell_type": "code",
   "execution_count": null,
   "id": "3a7d1a7e",
   "metadata": {},
   "outputs": [],
   "source": [
    "# print values\n",
    "print('Ullage Factor =', ullage_percentage, '%')\n",
    "print('Fill Time =', fill_time, 's')\n",
    "print('Peak Tank Pressure =', peak_tank_pressure, 'psi')\n",
    "print('Peak Tank Temp =', peak_tank_temp, 'C')\n",
    "print('Peak Run Pressure =', peak_run_pressure, 'psi')\n",
    "print('Peak CC Pressure =', peak_cc_pressure, 'psi')\n",
    "print('Peak Mass Flow Rate =', - peak_mass_flow_rate, 'kg/s')\n",
    "print('Average Mass Flow Rate =', - average_mass_flow_rate, 'kg/s')\n",
    "print('Mass of Liquid =', m_liq, 'kg')\n",
    "print('Mass of Gas =', m_gas, 'kg')"
   ]
  },
  {
   "cell_type": "markdown",
   "id": "8ebf545a",
   "metadata": {},
   "source": [
    "## 7. Mass Error Propogation"
   ]
  },
  {
   "cell_type": "markdown",
   "id": "88d93a8a",
   "metadata": {},
   "source": [
    "This section propogates the error in the mass data to the mass flow rate and discharge coefficient"
   ]
  },
  {
   "cell_type": "code",
   "execution_count": null,
   "id": "e8b0adba",
   "metadata": {},
   "outputs": [],
   "source": [
    "# Mass Error (standard deviation and standard error)\n",
    "#mass_data = np.array([m_total_start, abs(integrated_mass), diptube_mass])\n",
    "mass_data = np.array([m_total_start, mass_loss_estimate])\n",
    "mean_mass = np.mean(mass_data)\n",
    "std_dev = np.std(mass_data, ddof=1)\n",
    "std_error = std_dev / np.sqrt(len(mass_data))\n",
    "\n",
    "print(\"Mean Mass:\", mean_mass, \"kg\")\n",
    "print(\"Standard Deviation:\", std_dev, \"kg\")\n",
    "print(\"Standard Error:\", std_error, \"kg\")"
   ]
  },
  {
   "cell_type": "code",
   "execution_count": null,
   "id": "ae9d01cc",
   "metadata": {},
   "outputs": [],
   "source": [
    "# Mass Flow Rate Error\n",
    "mass_flow_rate_std_error = np.abs(time_derivative) * std_error"
   ]
  },
  {
   "cell_type": "code",
   "execution_count": null,
   "id": "88bdf74e",
   "metadata": {},
   "outputs": [],
   "source": [
    "# Discharge Coefficient Error\n",
    "average_c_d_std_error = calculate_discharge_coefficient_uncertainty(average_c_d, hole_diameter, num_holes, p_run_range, delta_p_run_cc, temp_liquid_density_dict, mass_flow_rate_std_error)\n",
    "peak_c_d_std_error = calculate_discharge_coefficient_uncertainty(peak_c_d, hole_diameter, num_holes, p_run_range, delta_p_run_cc, temp_liquid_density_dict, mass_flow_rate_std_error)"
   ]
  },
  {
   "cell_type": "markdown",
   "id": "3c145a0a",
   "metadata": {},
   "source": [
    "## 8. Plots"
   ]
  },
  {
   "cell_type": "markdown",
   "id": "65998f70",
   "metadata": {},
   "source": [
    "Plot the results"
   ]
  },
  {
   "cell_type": "code",
   "execution_count": null,
   "id": "6c6eb0ca",
   "metadata": {},
   "outputs": [],
   "source": [
    "# Fill Pressure\n",
    "plt.figure(figsize=(10, 6))\n",
    "plt.plot(time_range_fill, p_fill_range, label='Fill Pressure')\n",
    "plt.plot(time_range_fill, p_tank_fill_range, label='Tank Pressure')\n",
    "plt.xlabel('Time (s)', fontsize = 15)\n",
    "plt.ylabel('Pressure (psi)', fontsize = 15)\n",
    "plt.title('Fill Pressure', fontsize = 15)\n",
    "plt.grid(True)\n",
    "plt.legend(fontsize = 12)\n",
    "plt.gca().set_facecolor('white')\n",
    "plt.savefig('fill_pressure.png', facecolor='white')\n",
    "plt.show()\n",
    "\n",
    "# Fill Pressure Zoomed\n",
    "plt.figure(figsize=(10, 6))\n",
    "plt.plot(time_range_fill, p_fill_range, label='Fill Pressure')\n",
    "plt.plot(time_range_fill, p_tank_fill_range, label='Tank Pressure')\n",
    "plt.xlabel('Time (s)', fontsize = 15)\n",
    "plt.ylabel('Pressure (psi)', fontsize = 15)\n",
    "plt.title('Fill Pressure', fontsize = 15)\n",
    "plt.grid(True)\n",
    "plt.legend(fontsize = 15)\n",
    "plt.xlim(0,30)\n",
    "#plt.ylim(0,500)\n",
    "plt.gca().set_facecolor('white')\n",
    "plt.savefig('fill_pressure_zoomed.png', facecolor='white')\n",
    "plt.show()"
   ]
  },
  {
   "cell_type": "code",
   "execution_count": null,
   "id": "c767e6c0",
   "metadata": {},
   "outputs": [],
   "source": [
    "# Temperature\n",
    "plt.figure(figsize=(10, 6))\n",
    "plt.plot(time_range, run_temp_range, label='Run Temperature (C)')\n",
    "plt.plot(time_range, tank_temp_range, label='Tank Temperature (C)')\n",
    "plt.xlabel('Time (s)', fontsize = 15)\n",
    "plt.ylabel('Temperature (C)', fontsize = 15)\n",
    "plt.title('Tank Emptying Temperature', fontsize = 15)\n",
    "plt.grid(True)\n",
    "plt.legend(fontsize = 15)\n",
    "plt.gca().set_facecolor('white')\n",
    "plt.savefig('tank_emptying_temp.png', facecolor='white')\n",
    "plt.show()"
   ]
  },
  {
   "cell_type": "code",
   "execution_count": null,
   "id": "c0239754",
   "metadata": {},
   "outputs": [],
   "source": [
    "# Tank/Run Pressure\n",
    "plt.figure(figsize=(10, 6))\n",
    "plt.plot(time_range, p_tank_range, label='Tank Pressure')\n",
    "plt.plot(time_range, p_run_range, label='Run Line Pressure')\n",
    "plt.plot(time_range, delta_p_tank_run, linestyle='--', label='Delta_P')\n",
    "plt.xlabel('Time (s)', fontsize = 15)\n",
    "plt.ylabel('Pressure (psi)', fontsize = 15)\n",
    "plt.title('Tank Emptying Pressure Drop', fontsize = 15)\n",
    "plt.grid(True)\n",
    "plt.legend(fontsize = 12)\n",
    "plt.gca().set_facecolor('white')\n",
    "plt.yticks(np.arange(0, max(p_tank_range) + 100, 100))\n",
    "plt.savefig('tank_emptying_pressure.png', facecolor='white')\n",
    "plt.show()\n",
    "\n",
    "# Injector Pressure Drop\n",
    "plt.figure(figsize=(10, 6))\n",
    "plt.plot(time_range, p_run_range, label='Run Line Pressure')\n",
    "plt.plot(time_range, p_cc_range, label='Combustion Chamber Pressure')\n",
    "plt.plot(time_range, delta_p_run_cc, linestyle='--', label='Delta_P')\n",
    "plt.xlabel('Time (s)', fontsize = 15)\n",
    "plt.ylabel('Pressure (psi)', fontsize = 15)\n",
    "plt.title('Injector Pressure Drop', fontsize = 15)\n",
    "plt.grid(True)\n",
    "plt.legend(fontsize = 12)\n",
    "plt.gca().set_facecolor('white')\n",
    "plt.savefig('injector_pressure_drop.png', facecolor='white')\n",
    "plt.show()"
   ]
  },
  {
   "cell_type": "code",
   "execution_count": null,
   "id": "ae7a82e8",
   "metadata": {},
   "outputs": [],
   "source": [
    "# Thrust\n",
    "plt.figure(figsize=(10, 6))\n",
    "plt.plot(time_range, thrust_range, label='Thrust (N)')\n",
    "plt.xlabel('Time (s)', fontsize = 15)\n",
    "plt.ylabel('Thrust (N)', fontsize = 15)\n",
    "plt.title('Thrust', fontsize = 15)\n",
    "plt.grid(True)\n",
    "plt.gca().set_facecolor('white')\n",
    "plt.savefig('thrust.png', facecolor='white')\n",
    "plt.show()"
   ]
  },
  {
   "cell_type": "code",
   "execution_count": null,
   "id": "cc883a16",
   "metadata": {},
   "outputs": [],
   "source": [
    "# Mass\n",
    "plt.figure(figsize=(10, 6))\n",
    "plt.plot(time_range_fill, mass_range, label='Mass (kg)')\n",
    "plt.xlabel('Time (s)', fontsize = 15)\n",
    "plt.ylabel('Mass (kg)', fontsize = 15)\n",
    "plt.title('Tank Mass Filling and Heating (Load Cell)', fontsize = 15)\n",
    "plt.grid(True)\n",
    "plt.gca().set_facecolor('white')\n",
    "plt.savefig('mass_fill.png', facecolor='white')\n",
    "plt.show()\n",
    "\n",
    "\n",
    "# 2.9 Mass (Run)\n",
    "plt.figure(figsize=(10, 6))\n",
    "plt.plot(time_range, mass_run_range, label='Original Mass (kg)', alpha=0.7)\n",
    "plt.plot(time_range, smoothed_mass_gaussian, label='Gaussian Smoothing', color='red')\n",
    "upper_bound = smoothed_mass_gaussian + std_error\n",
    "lower_bound = smoothed_mass_gaussian - std_error\n",
    "plt.fill_between(time_range, lower_bound, upper_bound, color='red', alpha=0.3)\n",
    "plt.title('Tank Mass (Run)', fontsize = 15)\n",
    "plt.xlabel('Time (s)', fontsize = 15)\n",
    "plt.ylabel('Mass (kg)', fontsize = 15)\n",
    "plt.grid(True)\n",
    "plt.gca().set_facecolor('white')\n",
    "plt.legend(fontsize = 12)\n",
    "plt.savefig('mass_tank_emptying.png', facecolor='white')\n",
    "plt.show()\n",
    "\n",
    "# Mass Flow Rate\n",
    "plt.figure(figsize=(10, 6))\n",
    "plt.plot(time_range, - time_derivative, label='Time Derivative of Liquid Phase Mass (ṁ)', color='teal')\n",
    "plt.axhline(y= - average_mass_flow_rate, color='blue', linestyle='--', label=\"Average ṁ (Liquid Phase) = 0.96 kg/s\", linewidth=2)\n",
    "plt.axhline(y= - peak_mass_flow_rate, color='darkorange', linestyle='--', label=\"Peak ṁ = 1.9 kg/s\", linewidth=2)\n",
    "upper_bound = time_derivative + mass_flow_rate_std_error\n",
    "lower_bound = time_derivative - mass_flow_rate_std_error\n",
    "plt.fill_between(time_range, -upper_bound, -lower_bound, color='teal', alpha=0.5, label='Uncertainty Bounds')\n",
    "plt.title('Mass Flow Rate', fontsize = 15)\n",
    "plt.xlabel('Time (s)', fontsize = 15)\n",
    "plt.ylabel('Mass Flow Rate (kg/s)', fontsize = 15)\n",
    "plt.grid(True)\n",
    "plt.legend(fontsize = 12)\n",
    "plt.xlim(start_time_liq, end_time_liq)\n",
    "plt.ylim(-3,5)\n",
    "plt.gca().set_facecolor('white')\n",
    "plt.savefig('injector_mass_flow_rate.png', facecolor='white')\n",
    "plt.show()\n",
    "\n",
    "# Discharge Coefficient Estimation\n",
    "plt.figure(figsize=(10, 6))\n",
    "plt.plot(time_range, average_c_d, label='Average ṁ = 0.96 kg/s (CO2)', color = 'blue')\n",
    "plt.plot(time_range, peak_c_d, label='Peak ṁ = 1.9 kg/s (CO2)', color = 'darkorange')\n",
    "#upper_bound_avg = average_c_d + average_c_d_std_error\n",
    "#lower_bound_avg = average_c_d - average_c_d_std_error\n",
    "#plt.fill_between(time_range, -upper_bound_avg, -lower_bound_avg, color='teal', alpha=0.5, label='Uncertainty Bounds')\n",
    "plt.title('Discharge Coefficient Estimation', fontsize = 15)\n",
    "plt.xlabel('Time (s)', fontsize = 15)\n",
    "plt.ylabel('Discharge Coefficient', fontsize = 15)\n",
    "plt.grid(True)\n",
    "plt.legend(fontsize = 12)\n",
    "plt.xlim(start_time_liq, end_time_liq)\n",
    "plt.ylim(0,0.8)\n",
    "plt.gca().set_facecolor('white')\n",
    "plt.savefig('discharge_coefficient.png', facecolor='white')\n",
    "plt.show()"
   ]
  }
 ],
 "metadata": {
  "kernelspec": {
   "display_name": "Python 3 (ipykernel)",
   "language": "python",
   "name": "python3"
  },
  "language_info": {
   "codemirror_mode": {
    "name": "ipython",
    "version": 3
   },
   "file_extension": ".py",
   "mimetype": "text/x-python",
   "name": "python",
   "nbconvert_exporter": "python",
   "pygments_lexer": "ipython3",
   "version": "3.10.4"
  }
 },
 "nbformat": 4,
 "nbformat_minor": 5
}
